{
 "cells": [
  {
   "cell_type": "code",
   "execution_count": 1,
   "id": "f56b7503",
   "metadata": {},
   "outputs": [],
   "source": [
    "import os\n",
    "\n",
    "os.environ['DJANGO_ALLOW_ASYNC_UNSAFE'] = 'true'"
   ]
  },
  {
   "cell_type": "code",
   "execution_count": 2,
   "id": "ae2ad661",
   "metadata": {},
   "outputs": [],
   "source": [
    "from tom_observations.cadence import get_cadence_strategy\n",
    "from tom_observations.models import DynamicCadence\n",
    "from tom_observations.facility import get_service_class"
   ]
  },
  {
   "cell_type": "code",
   "execution_count": 3,
   "id": "fda3c6ea",
   "metadata": {},
   "outputs": [
    {
     "data": {
      "text/plain": [
       "{'cadence_strategy': 'ResumeCadenceAfterFailureStrategy',\n",
       " 'ipp_value': 0.5,\n",
       " 'max_airmass': 3.0,\n",
       " 'facility': 'LCO',\n",
       " 'target_id': 86,\n",
       " 'observation_type': 'PHOTOMETRIC_SEQUENCE',\n",
       " 'name': 'Test Photometric Sequence',\n",
       " 'min_lunar_distance': None,\n",
       " 'period': None,\n",
       " 'jitter': None,\n",
       " 'observation_mode': 'NORMAL',\n",
       " 'cadence_frequency': 120,\n",
       " 'proposal': 'LCOEngineering',\n",
       " 'instrument_type': '0M4-SCICAM-SBIG',\n",
       " 'U': [],\n",
       " 'B': [30.0, 1, 1],\n",
       " 'V': [],\n",
       " 'R': [],\n",
       " 'I': [],\n",
       " 'u': [],\n",
       " 'g': [],\n",
       " 'r': [],\n",
       " 'i': [],\n",
       " 'z': [],\n",
       " 'w': [],\n",
       " 'start': '2021-05-06T16:38:27',\n",
       " 'end': '2021-05-11T16:38:27'}"
      ]
     },
     "execution_count": 3,
     "metadata": {},
     "output_type": "execute_result"
    }
   ],
   "source": [
    "dc = DynamicCadence.objects.filter(active=True).last()\n",
    "strategy = get_cadence_strategy(dc.cadence_strategy)(dc)\n",
    "last_obs = strategy.dynamic_cadence.observation_group.observation_records.first()\n",
    "facility = get_service_class(last_obs.facility)()\n",
    "last_obs.parameters"
   ]
  },
  {
   "cell_type": "code",
   "execution_count": 4,
   "id": "52bcdbc5",
   "metadata": {},
   "outputs": [
    {
     "name": "stdout",
     "output_type": "stream",
     "text": [
      "{'cadence_strategy': 'ResumeCadenceAfterFailureStrategy', 'ipp_value': 0.5, 'max_airmass': 3.0, 'facility': 'LCO', 'target_id': 86, 'observation_type': 'PHOTOMETRIC_SEQUENCE', 'name': 'Test Photometric Sequence', 'min_lunar_distance': None, 'period': None, 'jitter': None, 'observation_mode': 'NORMAL', 'cadence_frequency': 120, 'proposal': 'LCOEngineering', 'instrument_type': '0M4-SCICAM-SBIG', 'U': [], 'B': [30.0, 1, 1], 'V': [], 'R': [], 'I': [], 'u': [], 'g': [], 'r': [], 'i': [], 'z': [], 'w': [], 'start': '2021-05-11T16:38:27', 'end': '2021-05-16T16:38:27'}\n"
     ]
    }
   ],
   "source": [
    "payload = strategy.advance_window(last_obs.parameters)\n",
    "print(payload)"
   ]
  },
  {
   "cell_type": "code",
   "execution_count": 5,
   "id": "6bfd9379",
   "metadata": {},
   "outputs": [
    {
     "name": "stdout",
     "output_type": "stream",
     "text": [
      "{'ipp_value': 0.5, 'max_airmass': 3.0, 'facility': 'LCO', 'target_id': 86, 'observation_type': 'PHOTOMETRIC_SEQUENCE', 'name': 'Test Photometric Sequence', 'start': '2021-05-11T16:38:27', 'end': '2021-05-16T16:38:27', 'min_lunar_distance': None, 'period': None, 'jitter': None, 'observation_mode': 'NORMAL', 'cadence_frequency': 120, 'proposal': 'LCOEngineering', 'instrument_type': '0M4-SCICAM-SBIG', 'groups': <QuerySet []>, 'U': [], 'B': [30.0, 1, 1], 'V': [], 'R': [], 'I': [], 'u': [], 'g': [], 'r': [], 'i': [], 'z': [], 'w': [], 'cadence_strategy': 'ResumeCadenceAfterFailureStrategy'}\n",
      "cleaned_data[start]: 2021-05-11T16:38:27\n",
      "cleaned_data[start]: 2021-05-11T16:38:27\n"
     ]
    },
    {
     "data": {
      "text/plain": [
       "{'name': 'Test Photometric Sequence',\n",
       " 'proposal': 'LCOEngineering',\n",
       " 'ipp_value': 0.5,\n",
       " 'operator': 'SINGLE',\n",
       " 'observation_type': 'NORMAL',\n",
       " 'requests': [{'configurations': [{'type': 'EXPOSE',\n",
       "     'instrument_type': '0M4-SCICAM-SBIG',\n",
       "     'target': {'name': 'ZTF18abslvxy',\n",
       "      'type': 'ICRS',\n",
       "      'ra': 226.7027455,\n",
       "      'dec': 0.6228661,\n",
       "      'proper_motion_ra': None,\n",
       "      'proper_motion_dec': None,\n",
       "      'epoch': None},\n",
       "     'instrument_configs': [{'exposure_count': 1,\n",
       "       'exposure_time': 30.0,\n",
       "       'optical_elements': {'filter': 'B'}}],\n",
       "     'acquisition_config': {},\n",
       "     'guiding_config': {},\n",
       "     'constraints': {'max_airmass': 3.0}}],\n",
       "   'windows': [{'start': '2021-05-11T16:38:27', 'end': '2021-05-16T16:38:27'}],\n",
       "   'location': {'telescope_class': '0m4'}}]}"
      ]
     },
     "execution_count": 5,
     "metadata": {},
     "output_type": "execute_result"
    }
   ],
   "source": [
    "obs_type = last_obs.parameters.get('observation_type')\n",
    "form = facility.get_form(obs_type)(payload)\n",
    "form.is_valid()\n",
    "form.observation_payload()"
   ]
  },
  {
   "cell_type": "code",
   "execution_count": null,
   "id": "191b3b7d",
   "metadata": {},
   "outputs": [],
   "source": []
  }
 ],
 "metadata": {
  "kernelspec": {
   "display_name": "Django Shell-Plus",
   "language": "python",
   "name": "django_extensions"
  },
  "language_info": {
   "codemirror_mode": {
    "name": "ipython",
    "version": 3
   },
   "file_extension": ".py",
   "mimetype": "text/x-python",
   "name": "python",
   "nbconvert_exporter": "python",
   "pygments_lexer": "ipython3",
   "version": "3.8.0"
  }
 },
 "nbformat": 4,
 "nbformat_minor": 5
}
