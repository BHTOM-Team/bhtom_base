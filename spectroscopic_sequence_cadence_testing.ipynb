{
 "cells": [
  {
   "cell_type": "code",
   "execution_count": 1,
   "id": "71ad836d",
   "metadata": {},
   "outputs": [],
   "source": [
    "import os\n",
    "\n",
    "os.environ['DJANGO_ALLOW_ASYNC_UNSAFE'] = 'true'"
   ]
  },
  {
   "cell_type": "code",
   "execution_count": 2,
   "id": "0d17895a",
   "metadata": {},
   "outputs": [],
   "source": [
    "from tom_observations.cadence import get_cadence_strategy\n",
    "from tom_observations.models import DynamicCadence\n",
    "from tom_observations.facility import get_service_class"
   ]
  },
  {
   "cell_type": "code",
   "execution_count": 3,
   "id": "e0b2dd4f",
   "metadata": {},
   "outputs": [
    {
     "data": {
      "text/plain": [
       "{'cadence_strategy': 'ResumeCadenceAfterFailureStrategy',\n",
       " 'ipp_value': 0.5,\n",
       " 'exposure_count': 1,\n",
       " 'exposure_time': 30.0,\n",
       " 'max_airmass': 3.0,\n",
       " 'facility': 'LCO',\n",
       " 'target_id': 86,\n",
       " 'observation_type': 'SPECTROSCOPIC_SEQUENCE',\n",
       " 'name': 'Test Spectroscopic Sequence Cadence',\n",
       " 'min_lunar_distance': None,\n",
       " 'period': None,\n",
       " 'jitter': None,\n",
       " 'observation_mode': 'NORMAL',\n",
       " 'site': 'any',\n",
       " 'acquisition_radius': None,\n",
       " 'guider_mode': 'on',\n",
       " 'guider_exposure_time': 30,\n",
       " 'cadence_frequency': 24,\n",
       " 'proposal': 'LCOEngineering',\n",
       " 'filter': 'slit_2.0as',\n",
       " 'instrument_type': '2M0-FLOYDS-SCICAM',\n",
       " 'start': '2021-05-06T16:23:54',\n",
       " 'end': '2021-05-07T16:23:54'}"
      ]
     },
     "execution_count": 3,
     "metadata": {},
     "output_type": "execute_result"
    }
   ],
   "source": [
    "dc = DynamicCadence.objects.filter(active=True).first()\n",
    "strategy = get_cadence_strategy(dc.cadence_strategy)(dc)\n",
    "last_obs = strategy.dynamic_cadence.observation_group.observation_records.first()\n",
    "facility = get_service_class(last_obs.facility)()\n",
    "last_obs.parameters"
   ]
  },
  {
   "cell_type": "code",
   "execution_count": 4,
   "id": "0afb6778",
   "metadata": {},
   "outputs": [
    {
     "name": "stdout",
     "output_type": "stream",
     "text": [
      "{'cadence_strategy': 'ResumeCadenceAfterFailureStrategy', 'ipp_value': 0.5, 'exposure_count': 1, 'exposure_time': 30.0, 'max_airmass': 3.0, 'facility': 'LCO', 'target_id': 86, 'observation_type': 'SPECTROSCOPIC_SEQUENCE', 'name': 'Test Spectroscopic Sequence Cadence', 'min_lunar_distance': None, 'period': None, 'jitter': None, 'observation_mode': 'NORMAL', 'site': 'any', 'acquisition_radius': None, 'guider_mode': 'on', 'guider_exposure_time': 30, 'cadence_frequency': 24, 'proposal': 'LCOEngineering', 'filter': 'slit_2.0as', 'instrument_type': '2M0-FLOYDS-SCICAM', 'start': '2021-05-07T16:23:54', 'end': '2021-05-08T16:23:54'}\n"
     ]
    }
   ],
   "source": [
    "payload = strategy.advance_window(last_obs.parameters)\n",
    "print(payload)"
   ]
  },
  {
   "cell_type": "code",
   "execution_count": 5,
   "id": "37125c22",
   "metadata": {},
   "outputs": [
    {
     "name": "stdout",
     "output_type": "stream",
     "text": [
      "cleaned_data: {'ipp_value': 0.5, 'exposure_count': 1, 'exposure_time': 30.0, 'max_airmass': 3.0, 'facility': 'LCO', 'target_id': 86, 'observation_type': 'SPECTROSCOPIC_SEQUENCE', 'name': 'Test Spectroscopic Sequence Cadence', 'start': '2021-05-07T16:23:54', 'end': '2021-05-08T16:23:54', 'min_lunar_distance': None, 'period': None, 'jitter': None, 'observation_mode': 'NORMAL', 'site': 'any', 'acquisition_radius': None, 'guider_mode': 'on', 'guider_exposure_time': 30, 'cadence_frequency': 24, 'proposal': 'LCOEngineering', 'filter': 'slit_2.0as', 'groups': <QuerySet []>, 'cadence_strategy': 'ResumeCadenceAfterFailureStrategy', 'instrument_type': '2M0-FLOYDS-SCICAM'}\n",
      "cleaned_data[start]: 2021-05-07T16:23:54\n",
      "cleaned_data[start]: 2021-05-07T16:23:54\n"
     ]
    },
    {
     "data": {
      "text/plain": [
       "{'name': 'Test Spectroscopic Sequence Cadence',\n",
       " 'proposal': 'LCOEngineering',\n",
       " 'ipp_value': 0.5,\n",
       " 'operator': 'SINGLE',\n",
       " 'observation_type': 'NORMAL',\n",
       " 'requests': [{'configurations': [{'type': 'SPECTRUM',\n",
       "     'instrument_type': '2M0-FLOYDS-SCICAM',\n",
       "     'target': {'name': 'ZTF18abslvxy',\n",
       "      'type': 'ICRS',\n",
       "      'ra': 226.7027455,\n",
       "      'dec': 0.6228661,\n",
       "      'proper_motion_ra': None,\n",
       "      'proper_motion_dec': None,\n",
       "      'epoch': None},\n",
       "     'instrument_configs': [{'exposure_count': 1,\n",
       "       'exposure_time': 30.0,\n",
       "       'optical_elements': {'slit': 'slit_2.0as'}}],\n",
       "     'acquisition_config': {'mode': 'WCS'},\n",
       "     'guiding_config': {'mode': 'ON', 'optional': 'false'},\n",
       "     'constraints': {'max_airmass': 3.0}}],\n",
       "   'windows': [{'start': '2021-05-07T16:23:54', 'end': '2021-05-08T16:23:54'}],\n",
       "   'location': {'telescope_class': '2m0'}}]}"
      ]
     },
     "execution_count": 5,
     "metadata": {},
     "output_type": "execute_result"
    }
   ],
   "source": [
    "obs_type = last_obs.parameters.get('observation_type')\n",
    "form = facility.get_form(obs_type)(payload)\n",
    "form.is_valid()\n",
    "form.observation_payload()"
   ]
  },
  {
   "cell_type": "code",
   "execution_count": null,
   "id": "0bde024a",
   "metadata": {},
   "outputs": [],
   "source": []
  }
 ],
 "metadata": {
  "kernelspec": {
   "display_name": "Django Shell-Plus",
   "language": "python",
   "name": "django_extensions"
  },
  "language_info": {
   "codemirror_mode": {
    "name": "ipython",
    "version": 3
   },
   "file_extension": ".py",
   "mimetype": "text/x-python",
   "name": "python",
   "nbconvert_exporter": "python",
   "pygments_lexer": "ipython3",
   "version": "3.8.0"
  }
 },
 "nbformat": 4,
 "nbformat_minor": 5
}
